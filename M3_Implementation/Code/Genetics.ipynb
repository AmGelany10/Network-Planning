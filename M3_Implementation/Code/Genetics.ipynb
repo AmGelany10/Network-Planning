{
 "cells": [
  {
   "cell_type": "markdown",
   "id": "1485c345",
   "metadata": {},
   "source": [
    "## NETW1003 Network Planning\n",
    "### Project - Milestone 3\n",
    "---------------------------\n",
    ">_Team Memebers:-_\n",
    ">  * Mohamed Abdelmaksoud 43-16710\n",
    ">  * Abdelrahman Gelany 43-17100\n",
    ">  * Mohamed Diaa 43-12821"
   ]
  },
  {
   "cell_type": "markdown",
   "id": "af494d69",
   "metadata": {},
   "source": [
    "#### [Reference one](https://pypi.org/project/geneticalgorithm/)"
   ]
  },
  {
   "cell_type": "markdown",
   "id": "d67bfbfc",
   "metadata": {},
   "source": [
    "--------------------------------------------------------------------------------------"
   ]
  },
  {
   "cell_type": "markdown",
   "id": "782b8a4f",
   "metadata": {},
   "source": [
    "#### Libs Installation"
   ]
  },
  {
   "cell_type": "code",
   "execution_count": 1,
   "id": "dede964f",
   "metadata": {},
   "outputs": [
    {
     "name": "stdout",
     "output_type": "stream",
     "text": [
      "Collecting binpacking\n",
      "  Downloading binpacking-1.5.2.tar.gz (8.7 kB)\n",
      "Requirement already satisfied: future in c:\\users\\mohamed abdekmaksoud\\anaconda3\\lib\\site-packages (from binpacking) (0.18.2)\n",
      "Building wheels for collected packages: binpacking\n",
      "  Building wheel for binpacking (setup.py): started\n",
      "  Building wheel for binpacking (setup.py): finished with status 'done'\n",
      "  Created wheel for binpacking: filename=binpacking-1.5.2-py3-none-any.whl size=10106 sha256=d27e4843d07ea48446121bda4816ec8cc080b944c559792caeb6f704d75027a7\n",
      "  Stored in directory: c:\\users\\mohamed abdekmaksoud\\appdata\\local\\pip\\cache\\wheels\\f5\\32\\e5\\053179ef89eae1ead168adc794a9e693ec77b02e88a35305df\n",
      "Successfully built binpacking\n",
      "Installing collected packages: binpacking\n",
      "Successfully installed binpacking-1.5.2\n"
     ]
    }
   ],
   "source": [
    "! pip install binpacking"
   ]
  },
  {
   "cell_type": "code",
   "execution_count": 3,
   "id": "2631fa3d",
   "metadata": {
    "scrolled": true
   },
   "outputs": [
    {
     "name": "stdout",
     "output_type": "stream",
     "text": [
      "Collecting sklearn-genetic\n",
      "  Downloading sklearn_genetic-0.5.1-py3-none-any.whl (11 kB)\n",
      "Requirement already satisfied: scikit-learn>=0.23 in c:\\users\\mohamed abdekmaksoud\\anaconda3\\lib\\site-packages (from sklearn-genetic) (0.24.1)\n",
      "Requirement already satisfied: numpy in c:\\users\\mohamed abdekmaksoud\\anaconda3\\lib\\site-packages (from sklearn-genetic) (1.20.1)\n",
      "Collecting deap>=1.0.2\n",
      "  Downloading deap-1.3.1-cp38-cp38-win_amd64.whl (108 kB)\n",
      "Collecting multiprocess\n",
      "  Downloading multiprocess-0.70.13-py38-none-any.whl (131 kB)\n",
      "Requirement already satisfied: scipy>=0.19.1 in c:\\users\\mohamed abdekmaksoud\\anaconda3\\lib\\site-packages (from scikit-learn>=0.23->sklearn-genetic) (1.6.2)\n",
      "Requirement already satisfied: joblib>=0.11 in c:\\users\\mohamed abdekmaksoud\\anaconda3\\lib\\site-packages (from scikit-learn>=0.23->sklearn-genetic) (1.0.1)\n",
      "Requirement already satisfied: threadpoolctl>=2.0.0 in c:\\users\\mohamed abdekmaksoud\\anaconda3\\lib\\site-packages (from scikit-learn>=0.23->sklearn-genetic) (2.1.0)\n",
      "Collecting dill>=0.3.5.1\n",
      "  Downloading dill-0.3.5.1-py2.py3-none-any.whl (95 kB)\n",
      "Installing collected packages: dill, multiprocess, deap, sklearn-genetic\n",
      "Successfully installed deap-1.3.1 dill-0.3.5.1 multiprocess-0.70.13 sklearn-genetic-0.5.1\n"
     ]
    }
   ],
   "source": [
    "! pip install sklearn-genetic"
   ]
  },
  {
   "cell_type": "code",
   "execution_count": 5,
   "id": "4633129e",
   "metadata": {},
   "outputs": [
    {
     "name": "stdout",
     "output_type": "stream",
     "text": [
      "Collecting geneticalgorithm\n",
      "  Downloading geneticalgorithm-1.0.2-py3-none-any.whl (16 kB)\n",
      "Collecting func-timeout\n",
      "  Downloading func_timeout-4.3.5.tar.gz (44 kB)\n",
      "Requirement already satisfied: numpy in c:\\users\\mohamed abdekmaksoud\\anaconda3\\lib\\site-packages (from geneticalgorithm) (1.20.1)\n",
      "Building wheels for collected packages: func-timeout\n",
      "  Building wheel for func-timeout (setup.py): started\n",
      "  Building wheel for func-timeout (setup.py): finished with status 'done'\n",
      "  Created wheel for func-timeout: filename=func_timeout-4.3.5-py3-none-any.whl size=15077 sha256=a87b92fd68de454e546ea89a45d83e33c75602860c7b41392c000f09ee5ca56e\n",
      "  Stored in directory: c:\\users\\mohamed abdekmaksoud\\appdata\\local\\pip\\cache\\wheels\\a8\\92\\ca\\5bbab358275e310af23b73fc32ebf37d6a7a08c87c8d2cdbc1\n",
      "Successfully built func-timeout\n",
      "Installing collected packages: func-timeout, geneticalgorithm\n",
      "Successfully installed func-timeout-4.3.5 geneticalgorithm-1.0.2\n"
     ]
    }
   ],
   "source": [
    "! pip install geneticalgorithm"
   ]
  },
  {
   "cell_type": "markdown",
   "id": "0f4882e5",
   "metadata": {},
   "source": [
    "#### Initial Implementations"
   ]
  },
  {
   "cell_type": "code",
   "execution_count": 6,
   "id": "2710f792",
   "metadata": {},
   "outputs": [
    {
     "name": "stdout",
     "output_type": "stream",
     "text": [
      " The best solution found:                                                                           \n",
      " [0.00582749 0.00168727 0.00591743]\n",
      "\n",
      " Objective function:\n",
      " 0.013432184943866776\n"
     ]
    },
    {
     "data": {
      "image/png": "[encoded data removed]",
      "text/plain": [
       "<Figure size 432x288 with 1 Axes>"
      ]
     },
     "metadata": {
      "needs_background": "light"
     },
     "output_type": "display_data"
    }
   ],
   "source": [
    "import numpy as np\n",
    "from geneticalgorithm import geneticalgorithm as ga\n",
    "\n",
    "def f(X):\n",
    "    return np.sum(X)\n",
    "\n",
    "\n",
    "varbound=np.array([[0,10]]*3)\n",
    "\n",
    "model=ga(function=f,dimension=3,variable_type='real',variable_boundaries=varbound)\n",
    "\n",
    "model.run()"
   ]
  },
  {
   "cell_type": "markdown",
   "id": "3de2f26d",
   "metadata": {},
   "source": [
    "#### Final Implementations\n",
    "> Nine Rounds"
   ]
  },
  {
   "cell_type": "code",
   "execution_count": 13,
   "id": "2de2ffa1",
   "metadata": {
    "scrolled": false
   },
   "outputs": [
    {
     "name": "stdout",
     "output_type": "stream",
     "text": [
      " The best solution found:                                                                           \n",
      " [10.0000679]\n",
      "\n",
      " Objective function:\n",
      " 4358895029.65574\n"
     ]
    },
    {
     "data": {
      "image/png": "[encoded data removed]",
      "text/plain": [
       "<Figure size 432x288 with 1 Axes>"
      ]
     },
     "metadata": {
      "needs_background": "light"
     },
     "output_type": "display_data"
    }
   ],
   "source": [
    "import numpy as np\n",
    "import math\n",
    "from geneticalgorithm import geneticalgorithm as ga\n",
    "\n",
    "def f(X):\n",
    "\n",
    "    MQ=[1500, 700, 500, 900, 1100, 1300, 1700, 1900, 1500]\n",
    "    alpha= [1, 0, 1, 1, 0, 0, 1, 1, 1]\n",
    "    Q = len(MQ)\n",
    "    B = 10**10  # inches\n",
    "    Pt = 1  # watt\n",
    "    Po= 6.8 # watt\n",
    "    e = 0.25  # eta\n",
    "    Psleep = 4.4  # watt\n",
    "    Mq=MQ\n",
    "    sigma= 4 # db\n",
    "    OF=0\n",
    "    for q in range (0,Q):\n",
    "        for k in range (100, 121):\n",
    "            OF+= (B/1500)*np.log2(1+X[0])\n",
    "    cons=0\n",
    "    for q in range (0, Q):\n",
    "        cons+=0.2*(Po + (1/e)*Pt) + (1-0.2)*Psleep\n",
    "    cons= 20 - cons\n",
    "    return OF + cons\n",
    "\n",
    "\n",
    "varbound=np.array([[10, 20]])\n",
    "\n",
    "\n",
    "\n",
    "model=ga(function=f,dimension=1,\\\n",
    "         variable_type='real',\\\n",
    "             variable_boundaries=varbound)\n",
    "\n",
    "model.run()"
   ]
  },
  {
   "cell_type": "code",
   "execution_count": 14,
   "id": "56692a77",
   "metadata": {},
   "outputs": [
    {
     "name": "stdout",
     "output_type": "stream",
     "text": [
      " The best solution found:                                                                           \n",
      " [10.00058405]\n",
      "\n",
      " Objective function:\n",
      " 9340672155.543924\n"
     ]
    },
    {
     "data": {
      "image/png": "[encoded data removed]",
      "text/plain": [
       "<Figure size 432x288 with 1 Axes>"
      ]
     },
     "metadata": {
      "needs_background": "light"
     },
     "output_type": "display_data"
    }
   ],
   "source": [
    "import numpy as np\n",
    "import math\n",
    "from geneticalgorithm import geneticalgorithm as ga\n",
    "\n",
    "def f(X):\n",
    "\n",
    "    MQ=[1500, 700, 500, 900, 1100, 1300, 1700, 1900, 1500]\n",
    "    alpha= [1, 0, 1, 1, 0, 0, 1, 1, 1]\n",
    "    Q = len(MQ)\n",
    "    B = 10**10  # inches\n",
    "    Pt = 1  # watt\n",
    "    Po= 6.8 # watt\n",
    "    e = 0.25  # eta\n",
    "    Psleep = 4.4  # watt\n",
    "    Mq=MQ\n",
    "    sigma= 4 # db\n",
    "    OF=0\n",
    "    for q in range (0,Q):\n",
    "        for k in range (100, 121):\n",
    "            OF+= (B/700)*np.log2(1+X[0])\n",
    "    cons=0\n",
    "    for q in range (0, Q):\n",
    "        cons+=0.2*(Po + (1/e)*Pt) + (1-0.2)*Psleep\n",
    "    cons= 20 - cons\n",
    "    return OF + cons\n",
    "\n",
    "\n",
    "varbound=np.array([[10, 20]])\n",
    "\n",
    "\n",
    "\n",
    "model=ga(function=f,dimension=1,\\\n",
    "         variable_type='real',\\\n",
    "             variable_boundaries=varbound)\n",
    "\n",
    "model.run()"
   ]
  },
  {
   "cell_type": "code",
   "execution_count": 15,
   "id": "948fcdb4",
   "metadata": {},
   "outputs": [
    {
     "name": "stdout",
     "output_type": "stream",
     "text": [
      " The best solution found:                                                                           \n",
      " [10.01044843]\n",
      "\n",
      " Objective function:\n",
      " 13081828968.262606\n"
     ]
    },
    {
     "data": {
      "image/png": "[encoded data removed]",
      "text/plain": [
       "<Figure size 432x288 with 1 Axes>"
      ]
     },
     "metadata": {
      "needs_background": "light"
     },
     "output_type": "display_data"
    }
   ],
   "source": [
    "import numpy as np\n",
    "import math\n",
    "from geneticalgorithm import geneticalgorithm as ga\n",
    "\n",
    "def f(X):\n",
    "\n",
    "    MQ=[1500, 700, 500, 900, 1100, 1300, 1700, 1900, 1500]\n",
    "    alpha= [1, 0, 1, 1, 0, 0, 1, 1, 1]\n",
    "    Q = len(MQ)\n",
    "    B = 10**10  # inches\n",
    "    Pt = 1  # watt\n",
    "    Po= 6.8 # watt\n",
    "    e = 0.25  # eta\n",
    "    Psleep = 4.4  # watt\n",
    "    Mq=MQ\n",
    "    sigma= 4 # db\n",
    "    OF=0\n",
    "    for q in range (0,Q):\n",
    "        for k in range (100, 121):\n",
    "            OF+= (B/500)*np.log2(1+X[0])\n",
    "    cons=0\n",
    "    for q in range (0, Q):\n",
    "        cons+=0.2*(Po + (1/e)*Pt) + (1-0.2)*Psleep\n",
    "    cons= 20 - cons\n",
    "    return OF + cons\n",
    "\n",
    "\n",
    "varbound=np.array([[10, 20]])\n",
    "\n",
    "\n",
    "\n",
    "model=ga(function=f,dimension=1,\\\n",
    "         variable_type='real',\\\n",
    "             variable_boundaries=varbound)\n",
    "\n",
    "model.run()"
   ]
  },
  {
   "cell_type": "code",
   "execution_count": 16,
   "id": "3bafaaff",
   "metadata": {
    "scrolled": false
   },
   "outputs": [
    {
     "name": "stdout",
     "output_type": "stream",
     "text": [
      " The best solution found:                                                                           \n",
      " [10.00126714]\n",
      "\n",
      " Objective function:\n",
      " 7265155349.35167\n"
     ]
    },
    {
     "data": {
      "image/png": "[encoded data removed]",
      "text/plain": [
       "<Figure size 432x288 with 1 Axes>"
      ]
     },
     "metadata": {
      "needs_background": "light"
     },
     "output_type": "display_data"
    }
   ],
   "source": [
    "import numpy as np\n",
    "import math\n",
    "from geneticalgorithm import geneticalgorithm as ga\n",
    "\n",
    "def f(X):\n",
    "\n",
    "    MQ=[1500, 700, 500, 900, 1100, 1300, 1700, 1900, 1500]\n",
    "    alpha= [1, 0, 1, 1, 0, 0, 1, 1, 1]\n",
    "    Q = len(MQ)\n",
    "    B = 10**10  # inches\n",
    "    Pt = 1  # watt\n",
    "    Po= 6.8 # watt\n",
    "    e = 0.25  # eta\n",
    "    Psleep = 4.4  # watt\n",
    "    Mq=MQ\n",
    "    sigma= 4 # db\n",
    "    OF=0\n",
    "    for q in range (0,Q):\n",
    "        for k in range (100, 121):\n",
    "            OF+= (B/900)*np.log2(1+X[0])\n",
    "    cons=0\n",
    "    for q in range (0, Q):\n",
    "        cons+=0.2*(Po + (1/e)*Pt) + (1-0.2)*Psleep\n",
    "    cons= 20 - cons\n",
    "    return OF + cons\n",
    "\n",
    "\n",
    "varbound=np.array([[10, 20]])\n",
    "\n",
    "\n",
    "\n",
    "model=ga(function=f,dimension=1,\\\n",
    "         variable_type='real',\\\n",
    "             variable_boundaries=varbound)\n",
    "\n",
    "model.run()"
   ]
  },
  {
   "cell_type": "code",
   "execution_count": 17,
   "id": "43af12fd",
   "metadata": {},
   "outputs": [
    {
     "name": "stdout",
     "output_type": "stream",
     "text": [
      " The best solution found:                                                                           \n",
      " [10.00401618]\n",
      "\n",
      " Objective function:\n",
      " 5944837344.101696\n"
     ]
    },
    {
     "data": {
      "image/png": "[encoded data removed]",
      "text/plain": [
       "<Figure size 432x288 with 1 Axes>"
      ]
     },
     "metadata": {
      "needs_background": "light"
     },
     "output_type": "display_data"
    }
   ],
   "source": [
    "import numpy as np\n",
    "import math\n",
    "from geneticalgorithm import geneticalgorithm as ga\n",
    "\n",
    "def f(X):\n",
    "\n",
    "    MQ=[1500, 700, 500, 900, 1100, 1300, 1700, 1900, 1500]\n",
    "    alpha= [1, 0, 1, 1, 0, 0, 1, 1, 1]\n",
    "    Q = len(MQ)\n",
    "    B = 10**10  # inches\n",
    "    Pt = 1  # watt\n",
    "    Po= 6.8 # watt\n",
    "    e = 0.25  # eta\n",
    "    Psleep = 4.4  # watt\n",
    "    Mq=MQ\n",
    "    sigma= 4 # db\n",
    "    OF=0\n",
    "    for q in range (0,Q):\n",
    "        for k in range (100, 121):\n",
    "            OF+= (B/1100)*np.log2(1+X[0])\n",
    "    cons=0\n",
    "    for q in range (0, Q):\n",
    "        cons+=0.2*(Po + (1/e)*Pt) + (1-0.2)*Psleep\n",
    "    cons= 20 - cons\n",
    "    return OF + cons\n",
    "\n",
    "\n",
    "varbound=np.array([[10, 20]])\n",
    "\n",
    "\n",
    "\n",
    "model=ga(function=f,dimension=1,\\\n",
    "         variable_type='real',\\\n",
    "             variable_boundaries=varbound)\n",
    "\n",
    "model.run()"
   ]
  },
  {
   "cell_type": "code",
   "execution_count": 18,
   "id": "7ae0b1b3",
   "metadata": {
    "scrolled": false
   },
   "outputs": [
    {
     "name": "stdout",
     "output_type": "stream",
     "text": [
      " The best solution found:                                                                           \n",
      " [10.00094782]\n",
      "\n",
      " Objective function:\n",
      " 5029662042.538436\n"
     ]
    },
    {
     "data": {
      "image/png": "[encoded data removed]",
      "text/plain": [
       "<Figure size 432x288 with 1 Axes>"
      ]
     },
     "metadata": {
      "needs_background": "light"
     },
     "output_type": "display_data"
    }
   ],
   "source": [
    "import numpy as np\n",
    "import math\n",
    "from geneticalgorithm import geneticalgorithm as ga\n",
    "\n",
    "def f(X):\n",
    "\n",
    "    MQ=[1500, 700, 500, 900, 1100, 1300, 1700, 1900, 1500]\n",
    "    alpha= [1, 0, 1, 1, 0, 0, 1, 1, 1]\n",
    "    Q = len(MQ)\n",
    "    B = 10**10  # inches\n",
    "    Pt = 1  # watt\n",
    "    Po= 6.8 # watt\n",
    "    e = 0.25  # eta\n",
    "    Psleep = 4.4  # watt\n",
    "    Mq=MQ\n",
    "    sigma= 4 # db\n",
    "    OF=0\n",
    "    for q in range (0,Q):\n",
    "        for k in range (100, 121):\n",
    "            OF+= (B/1300)*np.log2(1+X[0])\n",
    "    cons=0\n",
    "    for q in range (0, Q):\n",
    "        cons+=0.2*(Po + (1/e)*Pt) + (1-0.2)*Psleep\n",
    "    cons= 20 - cons\n",
    "    return OF + cons\n",
    "\n",
    "\n",
    "varbound=np.array([[10, 20]])\n",
    "\n",
    "\n",
    "\n",
    "model=ga(function=f,dimension=1,\\\n",
    "         variable_type='real',\\\n",
    "             variable_boundaries=varbound)\n",
    "\n",
    "model.run()"
   ]
  },
  {
   "cell_type": "code",
   "execution_count": 19,
   "id": "045e03b4",
   "metadata": {},
   "outputs": [
    {
     "name": "stdout",
     "output_type": "stream",
     "text": [
      " The best solution found:                                                                           \n",
      " [10.00749305]\n",
      "\n",
      " Objective function:\n",
      " 3847166153.043906\n"
     ]
    },
    {
     "data": {
      "image/png": "[encoded data removed]",
      "text/plain": [
       "<Figure size 432x288 with 1 Axes>"
      ]
     },
     "metadata": {
      "needs_background": "light"
     },
     "output_type": "display_data"
    }
   ],
   "source": [
    "import numpy as np\n",
    "import math\n",
    "from geneticalgorithm import geneticalgorithm as ga\n",
    "\n",
    "def f(X):\n",
    "\n",
    "    MQ=[1500, 700, 500, 900, 1100, 1300, 1700, 1900, 1500]\n",
    "    alpha= [1, 0, 1, 1, 0, 0, 1, 1, 1]\n",
    "    Q = len(MQ)\n",
    "    B = 10**10  # inches\n",
    "    Pt = 1  # watt\n",
    "    Po= 6.8 # watt\n",
    "    e = 0.25  # eta\n",
    "    Psleep = 4.4  # watt\n",
    "    Mq=MQ\n",
    "    sigma= 4 # db\n",
    "    OF=0\n",
    "    for q in range (0,Q):\n",
    "        for k in range (100, 121):\n",
    "            OF+= (B/1700)*np.log2(1+X[0])\n",
    "    cons=0\n",
    "    for q in range (0, Q):\n",
    "        cons+=0.2*(Po + (1/e)*Pt) + (1-0.2)*Psleep\n",
    "    cons= 20 - cons\n",
    "    return OF + cons\n",
    "\n",
    "\n",
    "varbound=np.array([[10, 20]])\n",
    "\n",
    "\n",
    "\n",
    "model=ga(function=f,dimension=1,\\\n",
    "         variable_type='real',\\\n",
    "             variable_boundaries=varbound)\n",
    "\n",
    "model.run()"
   ]
  },
  {
   "cell_type": "code",
   "execution_count": 20,
   "id": "8f5de641",
   "metadata": {},
   "outputs": [
    {
     "name": "stdout",
     "output_type": "stream",
     "text": [
      " The best solution found:                                                                           \n",
      " [10.00091963]\n",
      "\n",
      " Objective function:\n",
      " 3441344025.528164\n"
     ]
    },
    {
     "data": {
      "image/png": "[encoded data removed]",
      "text/plain": [
       "<Figure size 432x288 with 1 Axes>"
      ]
     },
     "metadata": {
      "needs_background": "light"
     },
     "output_type": "display_data"
    }
   ],
   "source": [
    "import numpy as np\n",
    "import math\n",
    "from geneticalgorithm import geneticalgorithm as ga\n",
    "\n",
    "def f(X):\n",
    "\n",
    "    MQ=[1500, 700, 500, 900, 1100, 1300, 1700, 1900, 1500]\n",
    "    alpha= [1, 0, 1, 1, 0, 0, 1, 1, 1]\n",
    "    Q = len(MQ)\n",
    "    B = 10**10  # inches\n",
    "    Pt = 1  # watt\n",
    "    Po= 6.8 # watt\n",
    "    e = 0.25  # eta\n",
    "    Psleep = 4.4  # watt\n",
    "    Mq=MQ\n",
    "    sigma= 4 # db\n",
    "    OF=0\n",
    "    for q in range (0,Q):\n",
    "        for k in range (100, 121):\n",
    "            OF+= (B/1900)*np.log2(1+X[0])\n",
    "    cons=0\n",
    "    for q in range (0, Q):\n",
    "        cons+=0.2*(Po + (1/e)*Pt) + (1-0.2)*Psleep\n",
    "    cons= 20 - cons\n",
    "    return OF + cons\n",
    "\n",
    "\n",
    "varbound=np.array([[10, 20]])\n",
    "\n",
    "\n",
    "\n",
    "model=ga(function=f,dimension=1,\\\n",
    "         variable_type='real',\\\n",
    "             variable_boundaries=varbound)\n",
    "\n",
    "model.run()"
   ]
  },
  {
   "cell_type": "code",
   "execution_count": 21,
   "id": "77571310",
   "metadata": {
    "scrolled": false
   },
   "outputs": [
    {
     "name": "stdout",
     "output_type": "stream",
     "text": [
      " The best solution found:                                                                           \n",
      " [10.00176281]\n",
      "\n",
      " Objective function:\n",
      " 4359175096.39432\n"
     ]
    },
    {
     "data": {
      "image/png": "[encoded data removed]",
      "text/plain": [
       "<Figure size 432x288 with 1 Axes>"
      ]
     },
     "metadata": {
      "needs_background": "light"
     },
     "output_type": "display_data"
    }
   ],
   "source": [
    "import numpy as np\n",
    "import math\n",
    "from geneticalgorithm import geneticalgorithm as ga\n",
    "\n",
    "def f(X):\n",
    "\n",
    "    MQ=[1500, 700, 500, 900, 1100, 1300, 1700, 1900, 1500]\n",
    "    alpha= [1, 0, 1, 1, 0, 0, 1, 1, 1]\n",
    "    Q = len(MQ)\n",
    "    B = 10**10  # inches\n",
    "    Pt = 1  # watt\n",
    "    Po= 6.8 # watt\n",
    "    e = 0.25  # eta\n",
    "    Psleep = 4.4  # watt\n",
    "    Mq=MQ\n",
    "    sigma= 4 # db\n",
    "    OF=0\n",
    "    for q in range (0,Q):\n",
    "        for k in range (100, 121):\n",
    "            OF+= (B/1500)*np.log2(1+X[0])\n",
    "    cons=0\n",
    "    for q in range (0, Q):\n",
    "        cons+=0.2*(Po + (1/e)*Pt) + (1-0.2)*Psleep\n",
    "    cons= 20 - cons\n",
    "    return OF + cons\n",
    "\n",
    "\n",
    "varbound=np.array([[10, 20]])\n",
    "\n",
    "\n",
    "\n",
    "model=ga(function=f,dimension=1,\\\n",
    "         variable_type='real',\\\n",
    "             variable_boundaries=varbound)\n",
    "\n",
    "model.run()"
   ]
  },
  {
   "cell_type": "markdown",
   "id": "45ae763e",
   "metadata": {},
   "source": [
    "#### Visualization"
   ]
  },
  {
   "cell_type": "code",
   "execution_count": 39,
   "id": "0500624c",
   "metadata": {},
   "outputs": [],
   "source": [
    "values_of_Objective_Func=[4358895029.65574,\n",
    "9340672155.543924,\n",
    "13081828968.262606,\n",
    "7265155349.35167,\n",
    "5944837344.101696,\n",
    "5029662042.538436,\n",
    "3847166153.043906,\n",
    "3441344025.528164,\n",
    "4359175096.39432]\n",
    "time = [0, 3, 6, 9, 12, 15, 18, 21, 24]"
   ]
  },
  {
   "cell_type": "code",
   "execution_count": 40,
   "id": "bf7bed3f",
   "metadata": {},
   "outputs": [
    {
     "data": {
      "image/png": "[encoded data removed]",
      "text/plain": [
       "<Figure size 432x288 with 1 Axes>"
      ]
     },
     "metadata": {
      "needs_background": "light"
     },
     "output_type": "display_data"
    }
   ],
   "source": [
    "import matplotlib.pyplot as plt\n",
    "plt.title(\"Throughput versus Time\")\n",
    "plt.plot(time, values_of_Objective_Func)\n",
    "plt.gca().invert_yaxis()"
   ]
  },
  {
   "cell_type": "code",
   "execution_count": 41,
   "id": "fbbe8b9f",
   "metadata": {},
   "outputs": [],
   "source": [
    "values_of_Objective_Func2=[4358895029.65574,\n",
    "9340672155.543924,\n",
    "13081828968.262606,\n",
    "7265155349.35167,\n",
    "5944837344.101696,\n",
    "5029662042.538436,\n",
    "3847166153.043906,\n",
    "3441344025.528164,\n",
    "4359175096.39432]"
   ]
  },
  {
   "cell_type": "code",
   "execution_count": 42,
   "id": "90ef47b9",
   "metadata": {},
   "outputs": [],
   "source": [
    "energy_values=values_of_Objective_Func/np.min(values_of_Objective_Func2)"
   ]
  },
  {
   "cell_type": "code",
   "execution_count": 43,
   "id": "73805e14",
   "metadata": {
    "scrolled": true
   },
   "outputs": [
    {
     "data": {
      "image/png": "[encoded data removed]",
      "text/plain": [
       "<Figure size 432x288 with 1 Axes>"
      ]
     },
     "metadata": {
      "needs_background": "light"
     },
     "output_type": "display_data"
    }
   ],
   "source": [
    "import matplotlib.pyplot as plt\n",
    "plt.title(\"Energy Efficiency versus Time\")\n",
    "plt.plot(time, energy_values)\n",
    "plt.gca().invert_yaxis()"
   ]
  },
  {
   "cell_type": "markdown",
   "id": "87804fe3",
   "metadata": {},
   "source": [
    "# <center><font color = yellow> الحمد لله </font> <center>"
   ]
  }
 ],
 "metadata": {
  "kernelspec": {
   "display_name": "Python 3",
   "language": "python",
   "name": "python3"
  },
  "language_info": {
   "codemirror_mode": {
    "name": "ipython",
    "version": 3
   },
   "file_extension": ".py",
   "mimetype": "text/x-python",
   "name": "python",
   "nbconvert_exporter": "python",
   "pygments_lexer": "ipython3",
   "version": "3.8.8"
  }
 },
 "nbformat": 4,
 "nbformat_minor": 5
}
